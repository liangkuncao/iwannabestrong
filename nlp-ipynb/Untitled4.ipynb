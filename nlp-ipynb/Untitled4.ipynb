{
 "cells": [
  {
   "cell_type": "code",
   "execution_count": 11,
   "metadata": {},
   "outputs": [
    {
     "name": "stdout",
     "output_type": "stream",
     "text": [
      "Collecting tensorflow_probability==0.8.0rc0\n",
      "  Using cached tensorflow_probability-0.8.0rc0-py2.py3-none-any.whl (2.5 MB)\n",
      "Requirement already satisfied, skipping upgrade: six>=1.10.0 in /Users/luke/anaconda3/lib/python3.7/site-packages (from tensorflow_probability==0.8.0rc0) (1.14.0)\n",
      "Collecting cloudpickle==1.1.1\n",
      "  Using cached cloudpickle-1.1.1-py2.py3-none-any.whl (17 kB)\n",
      "Requirement already satisfied, skipping upgrade: numpy>=1.13.3 in /Users/luke/anaconda3/lib/python3.7/site-packages (from tensorflow_probability==0.8.0rc0) (1.18.1)\n",
      "Requirement already satisfied, skipping upgrade: decorator in /Users/luke/anaconda3/lib/python3.7/site-packages (from tensorflow_probability==0.8.0rc0) (4.4.2)\n",
      "\u001b[31mERROR: spyder 4.1.3 requires pyqt5<5.13; python_version >= \"3\", which is not installed.\u001b[0m\n",
      "\u001b[31mERROR: spyder 4.1.3 requires pyqtwebengine<5.13; python_version >= \"3\", which is not installed.\u001b[0m\n",
      "Installing collected packages: cloudpickle, tensorflow-probability\n",
      "Successfully installed cloudpickle-1.1.1 tensorflow-probability-0.8.0rc0\n"
     ]
    }
   ],
   "source": [
    "!pip install tensorflow_probability==0.8.0rc0 --user --upgrade"
   ]
  },
  {
   "cell_type": "code",
   "execution_count": 13,
   "metadata": {},
   "outputs": [],
   "source": [
    "import tensorflow_probability as tfp\n",
    "import tensorflow as tf"
   ]
  },
  {
   "cell_type": "code",
   "execution_count": 14,
   "metadata": {},
   "outputs": [],
   "source": [
    "tfd = tfp.distributions"
   ]
  },
  {
   "cell_type": "code",
   "execution_count": 15,
   "metadata": {},
   "outputs": [],
   "source": [
    "initial_distribution = tfd.Categorical(probs=[0.8, 0.2])"
   ]
  },
  {
   "cell_type": "code",
   "execution_count": 17,
   "metadata": {},
   "outputs": [],
   "source": [
    "transition_distribution = tfd.Categorical(probs=[[0.7, 0.3],\n",
    "                                                [0.2, 0.8]])"
   ]
  },
  {
   "cell_type": "code",
   "execution_count": 18,
   "metadata": {},
   "outputs": [],
   "source": [
    "observation_distribution = tfd.Normal(loc=[0., 15.], scale=[5., 10.])"
   ]
  },
  {
   "cell_type": "code",
   "execution_count": 19,
   "metadata": {},
   "outputs": [],
   "source": [
    "model = tfd.HiddenMarkovModel(\n",
    "    initial_distribution=initial_distribution,\n",
    "    transition_distribution=transition_distribution,\n",
    "    observation_distribution=observation_distribution,\n",
    "    num_steps=7)"
   ]
  },
  {
   "cell_type": "code",
   "execution_count": 20,
   "metadata": {},
   "outputs": [
    {
     "data": {
      "text/plain": [
       "<tf.Tensor: shape=(7,), dtype=float32, numpy=\n",
       "array([2.9999998, 5.9999995, 7.4999995, 8.25     , 8.625001 , 8.812501 ,\n",
       "       8.90625  ], dtype=float32)>"
      ]
     },
     "execution_count": 20,
     "metadata": {},
     "output_type": "execute_result"
    }
   ],
   "source": [
    "model.mean()"
   ]
  },
  {
   "cell_type": "code",
   "execution_count": 21,
   "metadata": {},
   "outputs": [
    {
     "data": {
      "text/plain": [
       "<tf.Tensor: shape=(), dtype=float32, numpy=-20.120832>"
      ]
     },
     "execution_count": 21,
     "metadata": {},
     "output_type": "execute_result"
    }
   ],
   "source": [
    "model.log_prob(tf.zeros(shape=[7]))"
   ]
  },
  {
   "cell_type": "code",
   "execution_count": null,
   "metadata": {},
   "outputs": [],
   "source": []
  }
 ],
 "metadata": {
  "kernelspec": {
   "display_name": "Python 3",
   "language": "python",
   "name": "python3"
  },
  "language_info": {
   "codemirror_mode": {
    "name": "ipython",
    "version": 3
   },
   "file_extension": ".py",
   "mimetype": "text/x-python",
   "name": "python",
   "nbconvert_exporter": "python",
   "pygments_lexer": "ipython3",
   "version": "3.7.6"
  }
 },
 "nbformat": 4,
 "nbformat_minor": 4
}
